{
 "cells": [
  {
   "cell_type": "code",
   "execution_count": 1,
   "id": "74108120-ad64-414e-8e14-cdc0dbb49345",
   "metadata": {},
   "outputs": [
    {
     "name": "stdout",
     "output_type": "stream",
     "text": [
      "Mean Reciprocal Rank: 0.500\n"
     ]
    }
   ],
   "source": [
    "def mean_reciprocal_rank(results, relevant_items):\n",
    "    # results: list of ranked items, relevant_items: set of correct items\n",
    "    for i, item in enumerate(results, 1):\n",
    "        if item in relevant_items:\n",
    "            return 1 / i\n",
    "    return 0\n",
    "\n",
    "# Example: Search results vs. relevant restaurants\n",
    "search_results = ['Rest1', 'Rest2', 'Rest3']\n",
    "relevant = {'Rest2'}\n",
    "mrr = mean_reciprocal_rank(search_results, relevant)\n",
    "print(f\"Mean Reciprocal Rank: {mrr:.3f}\")"
   ]
  },
  {
   "cell_type": "code",
   "execution_count": 33,
   "id": "3e0545fe-d9b1-4c5d-aeee-38ec7c8ed38f",
   "metadata": {},
   "outputs": [
    {
     "name": "stdout",
     "output_type": "stream",
     "text": [
      "[0.5, 1.0, 0]\n",
      "Mean Reciprocal Rank: 0.500\n"
     ]
    }
   ],
   "source": [
    "def mean_reciprocal_rank(results, relevant_items):\n",
    "    reciprocal_ranks = []\n",
    "    \n",
    "    for query_results, relevant in zip(results, relevant_items):\n",
    "        for rank, item in enumerate(query_results, 1):\n",
    "            if item in relevant:\n",
    "                reciprocal_ranks.append(1 / rank)\n",
    "                break\n",
    "        else:\n",
    "            reciprocal_ranks.append(0)  # No relevant item found\n",
    "\n",
    "    print(reciprocal_ranks)\n",
    "    \n",
    "    return sum(reciprocal_ranks) / len(reciprocal_ranks) if reciprocal_ranks else 0\n",
    "\n",
    "search_results = [\n",
    "    ['Rest1', 'Rest2', 'Rest3'],  # Query 1\n",
    "    ['Rest4', 'Rest5', 'Rest6'],  # Query 2\n",
    "    ['Rest7', 'Rest8', 'Rest9']   # Query 3\n",
    "]\n",
    "relevant_restaurants = [\n",
    "    {'Rest2'},  # Relevant for Query 1\n",
    "    {'Rest4'},  # Relevant for Query 2\n",
    "    {'Rest10'}  # No relevant restaurant for Query 3\n",
    "]\n",
    "\n",
    "mrr = mean_reciprocal_rank(search_results, relevant_restaurants)\n",
    "print(f\"Mean Reciprocal Rank: {mrr:.3f}\")  # Output: Mean Reciprocal Rank: 0.833"
   ]
  },
  {
   "cell_type": "code",
   "execution_count": 45,
   "id": "de173f8f-69f7-4b45-a162-6485a224a970",
   "metadata": {},
   "outputs": [
    {
     "name": "stdout",
     "output_type": "stream",
     "text": [
      "[1 2 3 4 5]\n",
      "[1 2 3 4 5]\n",
      "NDCG@5: 0.943\n"
     ]
    }
   ],
   "source": [
    "import numpy as np\n",
    "\n",
    "def dcg_score(relevance_scores, k=None):\n",
    "    \"\"\"Calculate DCG for a ranked list up to position k.\"\"\"\n",
    "    if k is None:\n",
    "        k = len(relevance_scores)\n",
    "    ranks = np.arange(1, min(k + 1, len(relevance_scores) + 1))\n",
    "    return np.sum(relevance_scores[:k] / np.log2(ranks + 1))\n",
    "\n",
    "def ndcg_score(actual_ranking, ideal_ranking, k=None):\n",
    "\n",
    "    dcg = dcg_score(actual_ranking, k)\n",
    "    idcg = dcg_score(ideal_ranking, k)\n",
    "    return dcg / idcg if idcg > 0 else 0\n",
    "\n",
    "\n",
    "actual = [3, 1, 0, 2, 0]\n",
    "ideal = [3, 2, 1, 0, 0]\n",
    "\n",
    "ndcg = ndcg_score(actual, ideal, k=5)\n",
    "print(f\"NDCG@5: {ndcg:.3f}\") "
   ]
  },
  {
   "cell_type": "code",
   "execution_count": null,
   "id": "ecd8715f-2c1c-403a-b3f3-a768cc4450e8",
   "metadata": {},
   "outputs": [],
   "source": []
  }
 ],
 "metadata": {
  "kernelspec": {
   "display_name": "Python [conda env:base] *",
   "language": "python",
   "name": "conda-base-py"
  },
  "language_info": {
   "codemirror_mode": {
    "name": "ipython",
    "version": 3
   },
   "file_extension": ".py",
   "mimetype": "text/x-python",
   "name": "python",
   "nbconvert_exporter": "python",
   "pygments_lexer": "ipython3",
   "version": "3.12.7"
  }
 },
 "nbformat": 4,
 "nbformat_minor": 5
}
